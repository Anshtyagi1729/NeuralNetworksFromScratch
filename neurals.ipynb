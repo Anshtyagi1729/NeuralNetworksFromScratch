{
 "cells": [
  {
   "cell_type": "code",
   "execution_count": 30,
   "id": "f2cec77b-c39f-4690-89fc-76db35ef4018",
   "metadata": {},
   "outputs": [],
   "source": [
    "import numpy as np\n",
    "from tensorflow.keras.datasets import mnist\n",
    "import matplotlib.pyplot as plt"
   ]
  },
  {
   "cell_type": "code",
   "execution_count": 31,
   "id": "1561fe2e-ab15-4cbd-b055-9a608b19d9fe",
   "metadata": {},
   "outputs": [],
   "source": [
    "(x_train,y_train),(x_test,y_test)=mnist.load_data()"
   ]
  },
  {
   "cell_type": "code",
   "execution_count": 32,
   "id": "7c650957-9050-4443-8b13-57a55313b74e",
   "metadata": {},
   "outputs": [],
   "source": [
    "#norm the values in [0,1]\n",
    "x_train=x_train/255.0\n",
    "x_test=x_test/255.0"
   ]
  },
  {
   "cell_type": "code",
   "execution_count": 33,
   "id": "033d2748-ddd0-4957-b589-e5026a3be083",
   "metadata": {},
   "outputs": [],
   "source": [
    "x_train_flat=x_train.reshape(x_train.shape[0],-1)\n",
    "x_test_flat=x_test.reshape(x_test.shape[0],-1)"
   ]
  },
  {
   "cell_type": "code",
   "execution_count": 34,
   "id": "df42f718-b858-48f9-8010-6a8dac5eac7c",
   "metadata": {},
   "outputs": [],
   "source": [
    "#encoding the labels to one hot key\n",
    "num_classes=10\n",
    "y_train_hot=np.eye(num_classes)[y_train]\n",
    "y_test_hot=np.eye(num_classes)[y_test]"
   ]
  },
  {
   "cell_type": "code",
   "execution_count": 35,
   "id": "aecced2f-ef2f-4566-bfe9-41ce161e4b92",
   "metadata": {},
   "outputs": [],
   "source": [
    "#initialing and giving details about the architecture of the neural network\n",
    "i_s=x_train_flat.shape[1]\n",
    "h1_s=512\n",
    "h2_s=256\n",
    "o_s=num_classes\n",
    "#initialise the parameters\n",
    "w1=np.random.randn(i_s,h1_s)*0.01\n",
    "b1=np.zeros((1,h1_s))\n",
    "w2=np.random.randn(h1_s,h2_s)*0.01\n",
    "b2=np.zeros((1,h2_s))\n",
    "w3=np.random.randn(h2_s,o_s)*0.01\n",
    "b3=np.zeros((1,o_s))"
   ]
  },
  {
   "cell_type": "code",
   "execution_count": 36,
   "id": "9b45a4b6-8243-4d22-a7f1-520c127cd0dc",
   "metadata": {},
   "outputs": [],
   "source": [
    "#defining our activation functions \n",
    "def ReLU(x):\n",
    "    return np.maximum(0,x)\n",
    "\n",
    "def softmax(x):\n",
    "    exp_sc=np.exp(x-np.max(x,axis=1,keepdims=True))\n",
    "    return exp_sc/np.sum(exp_sc,axis=1,keepdims=True)"
   ]
  },
  {
   "cell_type": "code",
   "execution_count": 37,
   "id": "24a36b2c-6e13-4cba-8959-dd4f87b47934",
   "metadata": {},
   "outputs": [],
   "source": [
    "#defining the forward prop\n",
    "def forward_prop(x):\n",
    "    global z1,z2,z3,a1,a2,a3\n",
    "    z1=np.dot(x,w1)+b1\n",
    "    a1=ReLU(z1)\n",
    "    z2=np.dot(a1,w2)+b2\n",
    "    a2=ReLU(z2)\n",
    "    #givign the inpute a2 to the final layer which results in the output\n",
    "    z3=np.dot(a2,w3)+b3\n",
    "    a3=softmax(z3)\n",
    "    return a3\n",
    "\n"
   ]
  },
  {
   "cell_type": "code",
   "execution_count": 38,
   "id": "85b28645-92ec-47ab-a0f4-cfa62756d373",
   "metadata": {},
   "outputs": [],
   "source": [
    "#defining the loss function\n",
    "def compute_loss(y_true, y_pred):\n",
    "    m = y_true.shape[0]\n",
    "    log_probs = -np.log(y_pred[np.arange(m), y_true.argmax(axis=1)])\n",
    "    loss = np.sum(log_probs) / m\n",
    "    return loss\n"
   ]
  },
  {
   "cell_type": "code",
   "execution_count": 39,
   "id": "b9999461-7529-4901-98f9-ceee8bdd5e9d",
   "metadata": {},
   "outputs": [],
   "source": [
    "learning_rate=0.001\n",
    "def back_prop(x,y_true,y_pred):\n",
    "    global w1,w2,w3,b1,b2,b3\n",
    "    m=y_true.shape[0]\n",
    "    #backprop from the last layer\n",
    "    dz3 = y_pred-y_true\n",
    "    dw3 = np.dot(a2.T,dz3)/m\n",
    "    db3=np.sum(dz3,axis=0,keepdims=True)/m\n",
    "    #onto the layer before \n",
    "    da2 = np.dot(dz3,w3.T)\n",
    "    dz2=da2*(z2>0)\n",
    "    dw2=np.dot(a1.T,dz2)/m\n",
    "    db2=np.sum(dz2,axis=0,keepdims=True)/m\n",
    "    #onto the layer before this\n",
    "    da1 = np.dot(dz2,w2.T)\n",
    "    dz1=da1*(z1>0)\n",
    "    dw1=np.dot(x.T,dz1)/m\n",
    "    db1=np.sum(dz1,axis=0,keepdims=True)/m\n",
    "    #updating the params for this back_prop\n",
    "    w3 -= learning_rate * dw3\n",
    "    b3 -= learning_rate * db3\n",
    "    w2 -= learning_rate * dw2\n",
    "    b2 -= learning_rate * db2\n",
    "    w1 -= learning_rate * dw1\n",
    "    b1 -= learning_rate * db1\n",
    "    \n",
    "    "
   ]
  },
  {
   "cell_type": "code",
   "execution_count": 43,
   "id": "ded2d5fd-5d97-4e32-bef8-8bee62ca1ffd",
   "metadata": {},
   "outputs": [
    {
     "name": "stdout",
     "output_type": "stream",
     "text": [
      "Epoch 1/20, Loss: 1.1094\n",
      "Epoch 2/20, Loss: 0.8352\n",
      "Epoch 3/20, Loss: 0.6835\n",
      "Epoch 4/20, Loss: 0.5896\n",
      "Epoch 5/20, Loss: 0.5227\n",
      "Epoch 6/20, Loss: 0.4703\n",
      "Epoch 7/20, Loss: 0.4281\n",
      "Epoch 8/20, Loss: 0.3940\n",
      "Epoch 9/20, Loss: 0.3666\n",
      "Epoch 10/20, Loss: 0.3441\n",
      "Epoch 11/20, Loss: 0.3250\n",
      "Epoch 12/20, Loss: 0.3081\n",
      "Epoch 13/20, Loss: 0.2929\n",
      "Epoch 14/20, Loss: 0.2791\n",
      "Epoch 15/20, Loss: 0.2664\n",
      "Epoch 16/20, Loss: 0.2545\n",
      "Epoch 17/20, Loss: 0.2436\n",
      "Epoch 18/20, Loss: 0.2336\n",
      "Epoch 19/20, Loss: 0.2244\n",
      "Epoch 20/20, Loss: 0.2160\n"
     ]
    }
   ],
   "source": [
    "#trainig the data \n",
    "epochs=20\n",
    "batch_s=32\n",
    "for epoch in range(epochs):\n",
    "    for i in range(0,x_train_flat.shape[0],batch_s):\n",
    "        x_batch=x_train_flat[i:i+batch_s]\n",
    "        y_batch=y_train_hot[i:i+batch_s]\n",
    "        y_pred=forward_prop(x_batch)\n",
    "        #compute the loss\n",
    "        loss=compute_loss(y_batch,y_pred)\n",
    "        #backprop\n",
    "        back_prop(x_batch,y_batch,y_pred)\n",
    "\n",
    "    print(f'Epoch {epoch + 1}/{epochs}, Loss: {loss:.4f}')\n",
    "\n"
   ]
  },
  {
   "cell_type": "code",
   "execution_count": 44,
   "id": "eeadbafe-399a-4242-96ac-50ab9f04202e",
   "metadata": {},
   "outputs": [
    {
     "name": "stdout",
     "output_type": "stream",
     "text": [
      "Final Test Accuracy: 0.8949\n"
     ]
    }
   ],
   "source": [
    "def compute_accuracy(y_true, y_pred):\n",
    "    y_pred_labels = np.argmax(y_pred, axis=1)\n",
    "    y_true_labels = np.argmax(y_true, axis=1)\n",
    "    accuracy = np.mean(y_pred_labels == y_true_labels)\n",
    "    return accuracy\n",
    "\n",
    "test_pred_final = forward_prop(x_test_flat)\n",
    "test_accuracy = compute_accuracy(y_test_hot, test_pred_final)\n",
    "print(f'Final Test Accuracy: {test_accuracy:.4f}')\n",
    "\n"
   ]
  },
  {
   "cell_type": "code",
   "execution_count": 45,
   "id": "63ecd79c-e1e4-4b19-b5cf-bb239b52abec",
   "metadata": {},
   "outputs": [],
   "source": [
    "# i think 89% accuracy is good enough but with standard practise and creating the same nn using torch results in a accurac\n",
    "#of 98% which is huge , now in case of svm we got a accuracy of 95% ig also using the standard practise of normalisation and stuff"
   ]
  },
  {
   "cell_type": "code",
   "execution_count": 52,
   "id": "a4a1b5e7-4e2f-4758-a1fa-457c331dde58",
   "metadata": {},
   "outputs": [
    {
     "data": {
      "image/png": "[encoded data removed]",
      "text/plain": [
       "<Figure size 1500x300 with 5 Axes>"
      ]
     },
     "metadata": {},
     "output_type": "display_data"
    }
   ],
   "source": [
    "import numpy as np\n",
    "import matplotlib.pyplot as plt\n",
    "\n",
    "# Function to make predictions using your custom neural network\n",
    "def predict(x):\n",
    "    # Implement forward propagation to get predictions\n",
    "    # Assuming `forward_propagation` is defined in your implementation\n",
    "    return forward_prop(x)\n",
    "\n",
    "# Function to show images with predictions\n",
    "def show_images_with_predictions(images, true_labels):\n",
    "    num_images = len(images)\n",
    "    predictions = []\n",
    "    \n",
    "    # Predict labels for the chosen images\n",
    "    for image in images:\n",
    "        prediction = predict(image[np.newaxis, :])  # Assuming predict takes a single image\n",
    "        predictions.append(np.argmax(prediction))  # Assuming softmax output, get index of max value\n",
    "    \n",
    "    # Plot images with their predicted and true labels\n",
    "    fig, axes = plt.subplots(1, num_images, figsize=(15, 3))\n",
    "    for i in range(num_images):\n",
    "        axes[i].imshow(images[i].reshape(28, 28), cmap='gray')\n",
    "        axes[i].set_title(f\"Predicted: {predictions[i]}, True: {true_labels[i]}\")\n",
    "        axes[i].axis('off')\n",
    "    \n",
    "    plt.tight_layout()\n",
    "    plt.show()\n",
    "\n",
    "# Assuming x_test_flat and y_test are defined\n",
    "# Select random images from the test set\n",
    "num_images_to_show = 5\n",
    "indices = np.random.choice(len(x_test_flat), num_images_to_show, replace=False)\n",
    "images = x_test_flat[indices]\n",
    "true_labels = y_test[indices]\n",
    "\n",
    "# Call the function to display images with predictions\n",
    "show_images_with_predictions(images, true_labels)\n",
    "\n",
    "\n",
    "\n",
    "#imma be honest i used google to get this function idk how to make this in matplotlib :sob:\n"
   ]
  },
  {
   "cell_type": "code",
   "execution_count": null,
   "id": "903b862e-3e42-4db7-ac13-bb119a86fb8e",
   "metadata": {},
   "outputs": [],
   "source": []
  },
  {
   "cell_type": "code",
   "execution_count": null,
   "id": "cedab6ff-f6a4-47d8-8d05-f93cd6c38e1d",
   "metadata": {},
   "outputs": [],
   "source": []
  },
  {
   "cell_type": "code",
   "execution_count": null,
   "id": "908196ea-be82-4806-be5b-af7e36788d68",
   "metadata": {},
   "outputs": [],
   "source": []
  }
 ],
 "metadata": {
  "kernelspec": {
   "display_name": "Python 3 (ipykernel)",
   "language": "python",
   "name": "python3"
  },
  "language_info": {
   "codemirror_mode": {
    "name": "ipython",
    "version": 3
   },
   "file_extension": ".py",
   "mimetype": "text/x-python",
   "name": "python",
   "nbconvert_exporter": "python",
   "pygments_lexer": "ipython3",
   "version": "3.12.2"
  }
 },
 "nbformat": 4,
 "nbformat_minor": 5
}
